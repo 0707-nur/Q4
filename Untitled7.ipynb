{
  "nbformat": 4,
  "nbformat_minor": 0,
  "metadata": {
    "colab": {
      "provenance": [],
      "authorship_tag": "ABX9TyMwyzun+sqHLD61YHP7UMB7",
      "include_colab_link": true
    },
    "kernelspec": {
      "name": "python3",
      "display_name": "Python 3"
    },
    "language_info": {
      "name": "python"
    }
  },
  "cells": [
    {
      "cell_type": "markdown",
      "metadata": {
        "id": "view-in-github",
        "colab_type": "text"
      },
      "source": [
        "<a href=\"https://colab.research.google.com/github/0707-nur/Q4/blob/main/Untitled7.ipynb\" target=\"_parent\"><img src=\"https://colab.research.google.com/assets/colab-badge.svg\" alt=\"Open In Colab\"/></a>"
      ]
    },
    {
      "cell_type": "code",
      "source": [
        "import pandas as pd\n",
        "\n",
        "# Assuming the data is in a CSV file named 'data.csv'\n",
        "data = pd.read_csv('country_vaccination_stats.csv')\n",
        "\n",
        "# Create a function to fill missing data with the minimum daily vaccination number of relevant countries\n",
        "def fill_missing_data(df, column_to_fill, group_by_column):\n",
        "    df_min = df.groupby(group_by_column)[column_to_fill].min().reset_index()\n",
        "    df_min.rename(columns={column_to_fill: 'min_' + column_to_fill}, inplace=True)\n",
        "    df = df.merge(df_min, on=group_by_column, how='left')\n",
        "    df[column_to_fill].fillna(df['min_' + column_to_fill], inplace=True)\n",
        "    df.drop(columns=['min_' + column_to_fill], inplace=True)\n",
        "    return df\n",
        "\n",
        "# Fill missing data in 'daily_vaccinations' column per country\n",
        "data = fill_missing_data(data, 'daily_vaccinations', 'country')\n",
        "\n",
        "# Save the updated data to a new CSV file\n",
        "data.to_csv('updated_data.csv', index=False)"
      ],
      "metadata": {
        "id": "HDUrPWmcnwqe"
      },
      "execution_count": 9,
      "outputs": []
    }
  ]
}